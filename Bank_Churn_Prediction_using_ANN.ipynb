{
 "cells": [
  {
   "cell_type": "code",
   "execution_count": 2,
   "id": "ab99856d",
   "metadata": {},
   "outputs": [],
   "source": [
    "import pandas as pd\n",
    "from sklearn.preprocessing import StandardScaler\n",
    "from sklearn.model_selection import train_test_split\n",
    "import tensorflow as tf\n",
    "from tensorflow import keras\n",
    "import seaborn as sn\n",
    "from sklearn.metrics import confusion_matrix,classification_report\n",
    "import matplotlib.pyplot as plt\n",
    "%matplotlib inline"
   ]
  },
  {
   "cell_type": "markdown",
   "id": "4266dd98",
   "metadata": {},
   "source": [
    "# Importing Data "
   ]
  },
  {
   "cell_type": "code",
   "execution_count": 3,
   "id": "8032f03a",
   "metadata": {},
   "outputs": [
    {
     "data": {
      "text/html": [
       "<div>\n",
       "<style scoped>\n",
       "    .dataframe tbody tr th:only-of-type {\n",
       "        vertical-align: middle;\n",
       "    }\n",
       "\n",
       "    .dataframe tbody tr th {\n",
       "        vertical-align: top;\n",
       "    }\n",
       "\n",
       "    .dataframe thead th {\n",
       "        text-align: right;\n",
       "    }\n",
       "</style>\n",
       "<table border=\"1\" class=\"dataframe\">\n",
       "  <thead>\n",
       "    <tr style=\"text-align: right;\">\n",
       "      <th></th>\n",
       "      <th>RowNumber</th>\n",
       "      <th>CustomerId</th>\n",
       "      <th>Surname</th>\n",
       "      <th>CreditScore</th>\n",
       "      <th>Geography</th>\n",
       "      <th>Gender</th>\n",
       "      <th>Age</th>\n",
       "      <th>Tenure</th>\n",
       "      <th>Balance</th>\n",
       "      <th>NumOfProducts</th>\n",
       "      <th>HasCrCard</th>\n",
       "      <th>IsActiveMember</th>\n",
       "      <th>EstimatedSalary</th>\n",
       "      <th>Exited</th>\n",
       "    </tr>\n",
       "  </thead>\n",
       "  <tbody>\n",
       "    <tr>\n",
       "      <th>5266</th>\n",
       "      <td>5267</td>\n",
       "      <td>15784700</td>\n",
       "      <td>Chikelu</td>\n",
       "      <td>811</td>\n",
       "      <td>France</td>\n",
       "      <td>Male</td>\n",
       "      <td>31</td>\n",
       "      <td>7</td>\n",
       "      <td>117799.28</td>\n",
       "      <td>1</td>\n",
       "      <td>1</td>\n",
       "      <td>1</td>\n",
       "      <td>182372.35</td>\n",
       "      <td>0</td>\n",
       "    </tr>\n",
       "    <tr>\n",
       "      <th>5617</th>\n",
       "      <td>5618</td>\n",
       "      <td>15797329</td>\n",
       "      <td>Muir</td>\n",
       "      <td>626</td>\n",
       "      <td>France</td>\n",
       "      <td>Male</td>\n",
       "      <td>43</td>\n",
       "      <td>4</td>\n",
       "      <td>137638.69</td>\n",
       "      <td>1</td>\n",
       "      <td>1</td>\n",
       "      <td>0</td>\n",
       "      <td>130442.08</td>\n",
       "      <td>1</td>\n",
       "    </tr>\n",
       "    <tr>\n",
       "      <th>5306</th>\n",
       "      <td>5307</td>\n",
       "      <td>15749638</td>\n",
       "      <td>Kaodilinakachukwu</td>\n",
       "      <td>605</td>\n",
       "      <td>France</td>\n",
       "      <td>Female</td>\n",
       "      <td>51</td>\n",
       "      <td>9</td>\n",
       "      <td>104760.82</td>\n",
       "      <td>1</td>\n",
       "      <td>1</td>\n",
       "      <td>1</td>\n",
       "      <td>165574.54</td>\n",
       "      <td>1</td>\n",
       "    </tr>\n",
       "    <tr>\n",
       "      <th>444</th>\n",
       "      <td>445</td>\n",
       "      <td>15787470</td>\n",
       "      <td>Parkinson</td>\n",
       "      <td>553</td>\n",
       "      <td>Spain</td>\n",
       "      <td>Male</td>\n",
       "      <td>47</td>\n",
       "      <td>3</td>\n",
       "      <td>116528.15</td>\n",
       "      <td>1</td>\n",
       "      <td>0</td>\n",
       "      <td>0</td>\n",
       "      <td>145704.19</td>\n",
       "      <td>1</td>\n",
       "    </tr>\n",
       "    <tr>\n",
       "      <th>5248</th>\n",
       "      <td>5249</td>\n",
       "      <td>15700366</td>\n",
       "      <td>Burton</td>\n",
       "      <td>669</td>\n",
       "      <td>France</td>\n",
       "      <td>Male</td>\n",
       "      <td>39</td>\n",
       "      <td>3</td>\n",
       "      <td>119452.03</td>\n",
       "      <td>1</td>\n",
       "      <td>1</td>\n",
       "      <td>1</td>\n",
       "      <td>171575.54</td>\n",
       "      <td>0</td>\n",
       "    </tr>\n",
       "  </tbody>\n",
       "</table>\n",
       "</div>"
      ],
      "text/plain": [
       "      RowNumber  CustomerId            Surname  CreditScore Geography  Gender  \\\n",
       "5266       5267    15784700            Chikelu          811    France    Male   \n",
       "5617       5618    15797329               Muir          626    France    Male   \n",
       "5306       5307    15749638  Kaodilinakachukwu          605    France  Female   \n",
       "444         445    15787470          Parkinson          553     Spain    Male   \n",
       "5248       5249    15700366             Burton          669    France    Male   \n",
       "\n",
       "      Age  Tenure    Balance  NumOfProducts  HasCrCard  IsActiveMember  \\\n",
       "5266   31       7  117799.28              1          1               1   \n",
       "5617   43       4  137638.69              1          1               0   \n",
       "5306   51       9  104760.82              1          1               1   \n",
       "444    47       3  116528.15              1          0               0   \n",
       "5248   39       3  119452.03              1          1               1   \n",
       "\n",
       "      EstimatedSalary  Exited  \n",
       "5266        182372.35       0  \n",
       "5617        130442.08       1  \n",
       "5306        165574.54       1  \n",
       "444         145704.19       1  \n",
       "5248        171575.54       0  "
      ]
     },
     "execution_count": 3,
     "metadata": {},
     "output_type": "execute_result"
    }
   ],
   "source": [
    "df=pd.read_csv(\"Bank_Churn.csv\")\n",
    "df.sample(5)"
   ]
  },
  {
   "cell_type": "markdown",
   "id": "50865518",
   "metadata": {},
   "source": [
    "# Irrelevant Columns for Modeling"
   ]
  },
  {
   "cell_type": "code",
   "execution_count": 4,
   "id": "6dc9bbe9",
   "metadata": {},
   "outputs": [],
   "source": [
    "df.drop(['RowNumber','CustomerId','Surname'],axis='columns',inplace=True)"
   ]
  },
  {
   "cell_type": "code",
   "execution_count": 5,
   "id": "2680ca42",
   "metadata": {},
   "outputs": [
    {
     "data": {
      "text/plain": [
       "(10000, 11)"
      ]
     },
     "execution_count": 5,
     "metadata": {},
     "output_type": "execute_result"
    }
   ],
   "source": [
    "df.shape"
   ]
  },
  {
   "cell_type": "code",
   "execution_count": 6,
   "id": "3c62c03f",
   "metadata": {},
   "outputs": [
    {
     "data": {
      "text/plain": [
       "CreditScore        0\n",
       "Geography          0\n",
       "Gender             0\n",
       "Age                0\n",
       "Tenure             0\n",
       "Balance            0\n",
       "NumOfProducts      0\n",
       "HasCrCard          0\n",
       "IsActiveMember     0\n",
       "EstimatedSalary    0\n",
       "Exited             0\n",
       "dtype: int64"
      ]
     },
     "execution_count": 6,
     "metadata": {},
     "output_type": "execute_result"
    }
   ],
   "source": [
    "df.isna().any()\n",
    "df.isna().sum()"
   ]
  },
  {
   "cell_type": "code",
   "execution_count": 7,
   "id": "3f0b79c9",
   "metadata": {},
   "outputs": [
    {
     "data": {
      "text/html": [
       "<div>\n",
       "<style scoped>\n",
       "    .dataframe tbody tr th:only-of-type {\n",
       "        vertical-align: middle;\n",
       "    }\n",
       "\n",
       "    .dataframe tbody tr th {\n",
       "        vertical-align: top;\n",
       "    }\n",
       "\n",
       "    .dataframe thead th {\n",
       "        text-align: right;\n",
       "    }\n",
       "</style>\n",
       "<table border=\"1\" class=\"dataframe\">\n",
       "  <thead>\n",
       "    <tr style=\"text-align: right;\">\n",
       "      <th></th>\n",
       "      <th>CreditScore</th>\n",
       "      <th>Geography</th>\n",
       "      <th>Gender</th>\n",
       "      <th>Age</th>\n",
       "      <th>Tenure</th>\n",
       "      <th>Balance</th>\n",
       "      <th>NumOfProducts</th>\n",
       "      <th>HasCrCard</th>\n",
       "      <th>IsActiveMember</th>\n",
       "      <th>EstimatedSalary</th>\n",
       "      <th>Exited</th>\n",
       "    </tr>\n",
       "  </thead>\n",
       "  <tbody>\n",
       "    <tr>\n",
       "      <th>6251</th>\n",
       "      <td>682</td>\n",
       "      <td>France</td>\n",
       "      <td>Female</td>\n",
       "      <td>37</td>\n",
       "      <td>8</td>\n",
       "      <td>148580.12</td>\n",
       "      <td>1</td>\n",
       "      <td>1</td>\n",
       "      <td>0</td>\n",
       "      <td>35179.18</td>\n",
       "      <td>0</td>\n",
       "    </tr>\n",
       "    <tr>\n",
       "      <th>7555</th>\n",
       "      <td>731</td>\n",
       "      <td>Spain</td>\n",
       "      <td>Male</td>\n",
       "      <td>41</td>\n",
       "      <td>3</td>\n",
       "      <td>0.00</td>\n",
       "      <td>2</td>\n",
       "      <td>1</td>\n",
       "      <td>0</td>\n",
       "      <td>101371.72</td>\n",
       "      <td>0</td>\n",
       "    </tr>\n",
       "    <tr>\n",
       "      <th>5387</th>\n",
       "      <td>669</td>\n",
       "      <td>Spain</td>\n",
       "      <td>Male</td>\n",
       "      <td>22</td>\n",
       "      <td>10</td>\n",
       "      <td>0.00</td>\n",
       "      <td>2</td>\n",
       "      <td>1</td>\n",
       "      <td>0</td>\n",
       "      <td>176163.74</td>\n",
       "      <td>0</td>\n",
       "    </tr>\n",
       "    <tr>\n",
       "      <th>1529</th>\n",
       "      <td>578</td>\n",
       "      <td>Spain</td>\n",
       "      <td>Male</td>\n",
       "      <td>23</td>\n",
       "      <td>8</td>\n",
       "      <td>0.00</td>\n",
       "      <td>2</td>\n",
       "      <td>1</td>\n",
       "      <td>0</td>\n",
       "      <td>112124.98</td>\n",
       "      <td>0</td>\n",
       "    </tr>\n",
       "    <tr>\n",
       "      <th>6971</th>\n",
       "      <td>554</td>\n",
       "      <td>France</td>\n",
       "      <td>Female</td>\n",
       "      <td>44</td>\n",
       "      <td>9</td>\n",
       "      <td>135814.70</td>\n",
       "      <td>2</td>\n",
       "      <td>0</td>\n",
       "      <td>0</td>\n",
       "      <td>115091.38</td>\n",
       "      <td>0</td>\n",
       "    </tr>\n",
       "  </tbody>\n",
       "</table>\n",
       "</div>"
      ],
      "text/plain": [
       "      CreditScore Geography  Gender  Age  Tenure    Balance  NumOfProducts  \\\n",
       "6251          682    France  Female   37       8  148580.12              1   \n",
       "7555          731     Spain    Male   41       3       0.00              2   \n",
       "5387          669     Spain    Male   22      10       0.00              2   \n",
       "1529          578     Spain    Male   23       8       0.00              2   \n",
       "6971          554    France  Female   44       9  135814.70              2   \n",
       "\n",
       "      HasCrCard  IsActiveMember  EstimatedSalary  Exited  \n",
       "6251          1               0         35179.18       0  \n",
       "7555          1               0        101371.72       0  \n",
       "5387          1               0        176163.74       0  \n",
       "1529          1               0        112124.98       0  \n",
       "6971          0               0        115091.38       0  "
      ]
     },
     "execution_count": 7,
     "metadata": {},
     "output_type": "execute_result"
    }
   ],
   "source": [
    "df.sample(5)"
   ]
  },
  {
   "cell_type": "code",
   "execution_count": 8,
   "id": "4428c4ee",
   "metadata": {},
   "outputs": [
    {
     "data": {
      "text/plain": [
       "CreditScore          int64\n",
       "Geography           object\n",
       "Gender              object\n",
       "Age                  int64\n",
       "Tenure               int64\n",
       "Balance            float64\n",
       "NumOfProducts        int64\n",
       "HasCrCard            int64\n",
       "IsActiveMember       int64\n",
       "EstimatedSalary    float64\n",
       "Exited               int64\n",
       "dtype: object"
      ]
     },
     "execution_count": 8,
     "metadata": {},
     "output_type": "execute_result"
    }
   ],
   "source": [
    "df.dtypes"
   ]
  },
  {
   "cell_type": "code",
   "execution_count": 9,
   "id": "e4690978",
   "metadata": {},
   "outputs": [
    {
     "name": "stdout",
     "output_type": "stream",
     "text": [
      "<class 'pandas.core.frame.DataFrame'>\n",
      "RangeIndex: 10000 entries, 0 to 9999\n",
      "Data columns (total 11 columns):\n",
      " #   Column           Non-Null Count  Dtype  \n",
      "---  ------           --------------  -----  \n",
      " 0   CreditScore      10000 non-null  int64  \n",
      " 1   Geography        10000 non-null  object \n",
      " 2   Gender           10000 non-null  object \n",
      " 3   Age              10000 non-null  int64  \n",
      " 4   Tenure           10000 non-null  int64  \n",
      " 5   Balance          10000 non-null  float64\n",
      " 6   NumOfProducts    10000 non-null  int64  \n",
      " 7   HasCrCard        10000 non-null  int64  \n",
      " 8   IsActiveMember   10000 non-null  int64  \n",
      " 9   EstimatedSalary  10000 non-null  float64\n",
      " 10  Exited           10000 non-null  int64  \n",
      "dtypes: float64(2), int64(7), object(2)\n",
      "memory usage: 859.5+ KB\n"
     ]
    }
   ],
   "source": [
    "df.info()"
   ]
  },
  {
   "cell_type": "code",
   "execution_count": 10,
   "id": "5997f589",
   "metadata": {},
   "outputs": [
    {
     "data": {
      "text/plain": [
       "Index(['CreditScore', 'Geography', 'Gender', 'Age', 'Tenure', 'Balance',\n",
       "       'NumOfProducts', 'HasCrCard', 'IsActiveMember', 'EstimatedSalary',\n",
       "       'Exited'],\n",
       "      dtype='object')"
      ]
     },
     "execution_count": 10,
     "metadata": {},
     "output_type": "execute_result"
    }
   ],
   "source": [
    "cols=df.columns\n",
    "cols"
   ]
  },
  {
   "cell_type": "code",
   "execution_count": 11,
   "id": "1ab27d3a",
   "metadata": {},
   "outputs": [
    {
     "name": "stdout",
     "output_type": "stream",
     "text": [
      "CreditScore : [619 608 502 699 850 645 822 376 501 684 528 497 476 549 635 616 653 587\n",
      " 726 732 636 510 669 846 577 756 571 574 411 591 533 553 520 722 475 490\n",
      " 804 582 472 465 556 834 660 776 829 637 550 698 585 788 655 601 656 725\n",
      " 511 614 742 687 555 603 751 581 735 661 675 738 813 657 604 519 664 678\n",
      " 757 416 665 777 543 506 493 652 750 729 646 647 808 524 769 730 515 773\n",
      " 814 710 413 623 670 622 785 605 479 685 538 562 721 628 668 828 674 625\n",
      " 432 770 758 795 686 789 589 461 584 579 663 682 793 691 485 650 754 535\n",
      " 716 539 706 586 631 717 800 683 704 615 667 484 480 578 512 606 597 778\n",
      " 514 525 715 580 807 521 759 516 711 618 643 671 689 620 676 572 695 592\n",
      " 567 694 547 594 673 610 767 763 712 703 662 659 523 772 545 634 739 771\n",
      " 681 544 696 766 727 693 557 531 498 651 791 733 811 707 714 782 775 799\n",
      " 602 744 588 747 583 627 731 629 438 642 806 474 559 429 680 749 734 644\n",
      " 626 649 805 718 840 630 654 762 568 613 522 737 648 443 640 540 460 593\n",
      " 801 611 802 745 483 690 492 709 705 560 752 701 537 487 596 702 486 724\n",
      " 548 464 790 534 748 494 590 468 509 818 816 536 753 774 621 569 658 798\n",
      " 641 542 692 639 765 570 638 599 632 779 527 564 833 504 842 508 417 598\n",
      " 741 607 761 848 546 439 755 760 526 713 700 666 566 495 688 612 477 427\n",
      " 839 819 720 459 503 624 529 563 482 796 445 746 786 554 672 787 499 844\n",
      " 450 815 838 803 736 633 600 679 517 792 743 488 421 841 708 507 505 456\n",
      " 435 561 518 565 728 784 552 609 764 697 723 551 444 719 496 541 830 812\n",
      " 677 420 595 617 809 500 826 434 513 478 797 363 399 463 780 452 575 837\n",
      " 794 824 428 823 781 849 489 431 457 768 831 359 820 573 576 558 817 449\n",
      " 440 415 821 530 350 446 425 740 481 783 358 845 451 458 469 423 404 836\n",
      " 473 835 466 491 351 827 843 365 532 414 453 471 401 810 832 470 447 422\n",
      " 825 430 436 426 408 847 418 437 410 454 407 455 462 386 405 383 395 467\n",
      " 433 442 424 448 441 367 412 382 373 419]\n",
      "Geography : ['France' 'Spain' 'Germany']\n",
      "Gender : ['Female' 'Male']\n",
      "Age : [42 41 39 43 44 50 29 27 31 24 34 25 35 45 58 32 38 46 36 33 40 51 61 49\n",
      " 37 19 66 56 26 21 55 75 22 30 28 65 48 52 57 73 47 54 72 20 67 79 62 53\n",
      " 80 59 68 23 60 70 63 64 18 82 69 74 71 76 77 88 85 84 78 81 92 83]\n",
      "Tenure : [ 2  1  8  7  4  6  3 10  5  9  0]\n",
      "Balance : [     0.    83807.86 159660.8  ...  57369.61  75075.31 130142.79]\n",
      "NumOfProducts : [1 3 2 4]\n",
      "HasCrCard : [1 0]\n",
      "IsActiveMember : [1 0]\n",
      "EstimatedSalary : [101348.88 112542.58 113931.57 ...  42085.58  92888.52  38190.78]\n",
      "Exited : [1 0]\n"
     ]
    }
   ],
   "source": [
    "for i in cols:\n",
    "    print(f'{i} : {df[i].unique()}')"
   ]
  },
  {
   "cell_type": "code",
   "execution_count": 12,
   "id": "85c2473f",
   "metadata": {},
   "outputs": [
    {
     "data": {
      "text/html": [
       "<div>\n",
       "<style scoped>\n",
       "    .dataframe tbody tr th:only-of-type {\n",
       "        vertical-align: middle;\n",
       "    }\n",
       "\n",
       "    .dataframe tbody tr th {\n",
       "        vertical-align: top;\n",
       "    }\n",
       "\n",
       "    .dataframe thead th {\n",
       "        text-align: right;\n",
       "    }\n",
       "</style>\n",
       "<table border=\"1\" class=\"dataframe\">\n",
       "  <thead>\n",
       "    <tr style=\"text-align: right;\">\n",
       "      <th></th>\n",
       "      <th>CreditScore</th>\n",
       "      <th>Age</th>\n",
       "      <th>Tenure</th>\n",
       "      <th>Balance</th>\n",
       "      <th>NumOfProducts</th>\n",
       "      <th>HasCrCard</th>\n",
       "      <th>IsActiveMember</th>\n",
       "      <th>EstimatedSalary</th>\n",
       "      <th>Exited</th>\n",
       "    </tr>\n",
       "  </thead>\n",
       "  <tbody>\n",
       "    <tr>\n",
       "      <th>count</th>\n",
       "      <td>10000.000000</td>\n",
       "      <td>10000.000000</td>\n",
       "      <td>10000.000000</td>\n",
       "      <td>10000.000000</td>\n",
       "      <td>10000.000000</td>\n",
       "      <td>10000.00000</td>\n",
       "      <td>10000.000000</td>\n",
       "      <td>10000.000000</td>\n",
       "      <td>10000.000000</td>\n",
       "    </tr>\n",
       "    <tr>\n",
       "      <th>mean</th>\n",
       "      <td>650.528800</td>\n",
       "      <td>38.921800</td>\n",
       "      <td>5.012800</td>\n",
       "      <td>76485.889288</td>\n",
       "      <td>1.530200</td>\n",
       "      <td>0.70550</td>\n",
       "      <td>0.515100</td>\n",
       "      <td>100090.239881</td>\n",
       "      <td>0.203700</td>\n",
       "    </tr>\n",
       "    <tr>\n",
       "      <th>std</th>\n",
       "      <td>96.653299</td>\n",
       "      <td>10.487806</td>\n",
       "      <td>2.892174</td>\n",
       "      <td>62397.405202</td>\n",
       "      <td>0.581654</td>\n",
       "      <td>0.45584</td>\n",
       "      <td>0.499797</td>\n",
       "      <td>57510.492818</td>\n",
       "      <td>0.402769</td>\n",
       "    </tr>\n",
       "    <tr>\n",
       "      <th>min</th>\n",
       "      <td>350.000000</td>\n",
       "      <td>18.000000</td>\n",
       "      <td>0.000000</td>\n",
       "      <td>0.000000</td>\n",
       "      <td>1.000000</td>\n",
       "      <td>0.00000</td>\n",
       "      <td>0.000000</td>\n",
       "      <td>11.580000</td>\n",
       "      <td>0.000000</td>\n",
       "    </tr>\n",
       "    <tr>\n",
       "      <th>25%</th>\n",
       "      <td>584.000000</td>\n",
       "      <td>32.000000</td>\n",
       "      <td>3.000000</td>\n",
       "      <td>0.000000</td>\n",
       "      <td>1.000000</td>\n",
       "      <td>0.00000</td>\n",
       "      <td>0.000000</td>\n",
       "      <td>51002.110000</td>\n",
       "      <td>0.000000</td>\n",
       "    </tr>\n",
       "    <tr>\n",
       "      <th>50%</th>\n",
       "      <td>652.000000</td>\n",
       "      <td>37.000000</td>\n",
       "      <td>5.000000</td>\n",
       "      <td>97198.540000</td>\n",
       "      <td>1.000000</td>\n",
       "      <td>1.00000</td>\n",
       "      <td>1.000000</td>\n",
       "      <td>100193.915000</td>\n",
       "      <td>0.000000</td>\n",
       "    </tr>\n",
       "    <tr>\n",
       "      <th>75%</th>\n",
       "      <td>718.000000</td>\n",
       "      <td>44.000000</td>\n",
       "      <td>7.000000</td>\n",
       "      <td>127644.240000</td>\n",
       "      <td>2.000000</td>\n",
       "      <td>1.00000</td>\n",
       "      <td>1.000000</td>\n",
       "      <td>149388.247500</td>\n",
       "      <td>0.000000</td>\n",
       "    </tr>\n",
       "    <tr>\n",
       "      <th>max</th>\n",
       "      <td>850.000000</td>\n",
       "      <td>92.000000</td>\n",
       "      <td>10.000000</td>\n",
       "      <td>250898.090000</td>\n",
       "      <td>4.000000</td>\n",
       "      <td>1.00000</td>\n",
       "      <td>1.000000</td>\n",
       "      <td>199992.480000</td>\n",
       "      <td>1.000000</td>\n",
       "    </tr>\n",
       "  </tbody>\n",
       "</table>\n",
       "</div>"
      ],
      "text/plain": [
       "        CreditScore           Age        Tenure        Balance  NumOfProducts  \\\n",
       "count  10000.000000  10000.000000  10000.000000   10000.000000   10000.000000   \n",
       "mean     650.528800     38.921800      5.012800   76485.889288       1.530200   \n",
       "std       96.653299     10.487806      2.892174   62397.405202       0.581654   \n",
       "min      350.000000     18.000000      0.000000       0.000000       1.000000   \n",
       "25%      584.000000     32.000000      3.000000       0.000000       1.000000   \n",
       "50%      652.000000     37.000000      5.000000   97198.540000       1.000000   \n",
       "75%      718.000000     44.000000      7.000000  127644.240000       2.000000   \n",
       "max      850.000000     92.000000     10.000000  250898.090000       4.000000   \n",
       "\n",
       "         HasCrCard  IsActiveMember  EstimatedSalary        Exited  \n",
       "count  10000.00000    10000.000000     10000.000000  10000.000000  \n",
       "mean       0.70550        0.515100    100090.239881      0.203700  \n",
       "std        0.45584        0.499797     57510.492818      0.402769  \n",
       "min        0.00000        0.000000        11.580000      0.000000  \n",
       "25%        0.00000        0.000000     51002.110000      0.000000  \n",
       "50%        1.00000        1.000000    100193.915000      0.000000  \n",
       "75%        1.00000        1.000000    149388.247500      0.000000  \n",
       "max        1.00000        1.000000    199992.480000      1.000000  "
      ]
     },
     "execution_count": 12,
     "metadata": {},
     "output_type": "execute_result"
    }
   ],
   "source": [
    "df.describe()"
   ]
  },
  {
   "cell_type": "code",
   "execution_count": 13,
   "id": "93f5c9a3",
   "metadata": {},
   "outputs": [
    {
     "data": {
      "text/plain": [
       "0    7963\n",
       "1    2037\n",
       "Name: Exited, dtype: int64"
      ]
     },
     "execution_count": 13,
     "metadata": {},
     "output_type": "execute_result"
    }
   ],
   "source": [
    "df['Exited'].value_counts()"
   ]
  },
  {
   "cell_type": "code",
   "execution_count": 14,
   "id": "0746e658",
   "metadata": {},
   "outputs": [
    {
     "data": {
      "image/png": "[encoded data removed]",
      "text/plain": [
       "<Figure size 432x288 with 1 Axes>"
      ]
     },
     "metadata": {
      "needs_background": "light"
     },
     "output_type": "display_data"
    },
    {
     "data": {
      "image/png": "[encoded data removed]",
      "text/plain": [
       "<Figure size 432x288 with 1 Axes>"
      ]
     },
     "metadata": {
      "needs_background": "light"
     },
     "output_type": "display_data"
    },
    {
     "data": {
      "image/png": "[encoded data removed]",
      "text/plain": [
       "<Figure size 432x288 with 1 Axes>"
      ]
     },
     "metadata": {
      "needs_background": "light"
     },
     "output_type": "display_data"
    },
    {
     "data": {
      "image/png": "[encoded data removed]",
      "text/plain": [
       "<Figure size 432x288 with 1 Axes>"
      ]
     },
     "metadata": {
      "needs_background": "light"
     },
     "output_type": "display_data"
    },
    {
     "data": {
      "image/png": "[encoded data removed]",
      "text/plain": [
       "<Figure size 432x288 with 1 Axes>"
      ]
     },
     "metadata": {
      "needs_background": "light"
     },
     "output_type": "display_data"
    },
    {
     "data": {
      "image/png": "[encoded data removed]",
      "text/plain": [
       "<Figure size 432x288 with 1 Axes>"
      ]
     },
     "metadata": {
      "needs_background": "light"
     },
     "output_type": "display_data"
    },
    {
     "data": {
      "image/png": "[encoded data removed]",
      "text/plain": [
       "<Figure size 432x288 with 1 Axes>"
      ]
     },
     "metadata": {
      "needs_background": "light"
     },
     "output_type": "display_data"
    },
    {
     "data": {
      "image/png": "[encoded data removed]",
      "text/plain": [
       "<Figure size 432x288 with 1 Axes>"
      ]
     },
     "metadata": {
      "needs_background": "light"
     },
     "output_type": "display_data"
    }
   ],
   "source": [
    "EstimatedSalary_Exited_no=df[df['Exited']==0].EstimatedSalary\n",
    "EstimatedSalary_Exited_yes=df[df['Exited']==1].EstimatedSalary\n",
    "tenur_Exited_no=df[df['Exited']==0].Tenure\n",
    "tenur_Exited_yes=df[df['Exited']==1].Tenure\n",
    "NumOfProducts_Exited_no=df[df['Exited']==0].NumOfProducts\n",
    "NumOfProducts_Exited_yes=df[df['Exited']==1].NumOfProducts\n",
    "Age_Exited_no=df[df['Exited']==0].Age\n",
    "Age_Exited_yes=df[df['Exited']==1].Age\n",
    "Balance_Exited_no=df[df['Exited']==0].Balance\n",
    "Balance_Exited_yes=df[df['Exited']==1].Balance\n",
    "CreditScore_Exited_no=df[df['Exited']==0].CreditScore\n",
    "CreditScore_Exited_yes=df[df['Exited']==1].CreditScore\n",
    "IsActiveMember_Exited_no=df[df['Exited']==0].IsActiveMember\n",
    "IsActiveMember_Exited_yes=df[df['Exited']==1].IsActiveMember\n",
    "Geography_Exited_no=df[df['Exited']==0].Geography\n",
    "Geography_Exited_yes=df[df['Exited']==1].Geography\n",
    "\n",
    "plt.title(\"Customer Churn Prediction Visualization\")\n",
    "\n",
    "plt.xlabel(\"EstimatedSalary\")\n",
    "plt.ylabel(\"Number of Customers\")\n",
    "plt.hist([EstimatedSalary_Exited_yes,EstimatedSalary_Exited_no], color=['red','green'], label=['Exited=Yes','Exited=No'])\n",
    "plt.legend()\n",
    "plt.show()\n",
    "\n",
    "plt.xlabel(\"Tenure\")\n",
    "plt.ylabel(\"Number of Customers\")\n",
    "plt.hist([tenur_Exited_yes,tenur_Exited_no],color=['red','green'],label=['Exited=Yes','Exited=No'])\n",
    "plt.legend()\n",
    "plt.show()\n",
    "\n",
    "plt.xlabel(\"NumOfProducts\")\n",
    "plt.ylabel(\"Number of Customers\")\n",
    "plt.hist([NumOfProducts_Exited_yes,NumOfProducts_Exited_no],color=['red','green'],label=['Exited=Yes','Exited=No'])\n",
    "plt.legend()\n",
    "plt.show()\n",
    "\n",
    "plt.xlabel(\"Age\")\n",
    "plt.ylabel(\"Number of Customers\")\n",
    "plt.hist([Age_Exited_yes,Age_Exited_no],color=['red','green'],label=['Exited=Yes','Exited=No'])\n",
    "plt.legend()\n",
    "plt.show()\n",
    "\n",
    "plt.xlabel(\"Balance\")\n",
    "plt.ylabel(\"Number of Customers\")\n",
    "plt.hist([Balance_Exited_yes,Balance_Exited_no],color=['red','green'],label=['Exited=Yes','Exited=No'])\n",
    "plt.legend()\n",
    "plt.show()\n",
    "\n",
    "plt.xlabel(\"CreditScore\")\n",
    "plt.ylabel(\"Number of Customers\")\n",
    "plt.hist([CreditScore_Exited_yes,CreditScore_Exited_no],color=['red','green'],label=['Exited=Yes','Exited=No'])\n",
    "plt.legend()\n",
    "plt.show()\n",
    "\n",
    "plt.xlabel(\"IsActiveMember\")\n",
    "plt.ylabel(\"Number of Customers\")\n",
    "plt.hist([IsActiveMember_Exited_yes,IsActiveMember_Exited_no],color=['red','green'],label=['Exited=Yes','Exited=No'])\n",
    "plt.legend()\n",
    "plt.show()\n",
    "\n",
    "plt.xlabel(\"Geography\")\n",
    "plt.ylabel(\"Number of Customers\")\n",
    "plt.hist([Geography_Exited_yes,Geography_Exited_no],color=['red','green'],label=['Exited=Yes','Exited=No'])\n",
    "plt.legend()\n",
    "plt.show()"
   ]
  },
  {
   "cell_type": "code",
   "execution_count": 15,
   "id": "2deb1d6f",
   "metadata": {},
   "outputs": [],
   "source": [
    "def print_unique_col_values(df):\n",
    "    for column in df:\n",
    "        if(df[column].dtypes=='object'):\n",
    "            print(f'{column} : {df[column].unique()}')"
   ]
  },
  {
   "cell_type": "code",
   "execution_count": 16,
   "id": "fe49a085",
   "metadata": {},
   "outputs": [
    {
     "name": "stdout",
     "output_type": "stream",
     "text": [
      "Geography : ['France' 'Spain' 'Germany']\n",
      "Gender : ['Female' 'Male']\n"
     ]
    }
   ],
   "source": [
    "print_unique_col_values(df)"
   ]
  },
  {
   "cell_type": "code",
   "execution_count": 17,
   "id": "0b725af2",
   "metadata": {},
   "outputs": [],
   "source": [
    "df['Gender'].replace({'Male':1,'Female':0},inplace=True)"
   ]
  },
  {
   "cell_type": "markdown",
   "id": "03ec6235",
   "metadata": {},
   "source": [
    "# one-hot encoding"
   ]
  },
  {
   "cell_type": "code",
   "execution_count": 18,
   "id": "c993fa64",
   "metadata": {},
   "outputs": [
    {
     "data": {
      "text/plain": [
       "Index(['CreditScore', 'Gender', 'Age', 'Tenure', 'Balance', 'NumOfProducts',\n",
       "       'HasCrCard', 'IsActiveMember', 'EstimatedSalary', 'Exited',\n",
       "       'Geography_France', 'Geography_Germany', 'Geography_Spain'],\n",
       "      dtype='object')"
      ]
     },
     "execution_count": 18,
     "metadata": {},
     "output_type": "execute_result"
    }
   ],
   "source": [
    "df=pd.get_dummies(data=df,columns=['Geography'])\n",
    "df.columns"
   ]
  },
  {
   "cell_type": "code",
   "execution_count": 19,
   "id": "1395528c",
   "metadata": {},
   "outputs": [
    {
     "name": "stdout",
     "output_type": "stream",
     "text": [
      "CreditScore : [619 608 502 699 850 645 822 376 501 684 528 497 476 549 635 616 653 587\n",
      " 726 732 636 510 669 846 577 756 571 574 411 591 533 553 520 722 475 490\n",
      " 804 582 472 465 556 834 660 776 829 637 550 698 585 788 655 601 656 725\n",
      " 511 614 742 687 555 603 751 581 735 661 675 738 813 657 604 519 664 678\n",
      " 757 416 665 777 543 506 493 652 750 729 646 647 808 524 769 730 515 773\n",
      " 814 710 413 623 670 622 785 605 479 685 538 562 721 628 668 828 674 625\n",
      " 432 770 758 795 686 789 589 461 584 579 663 682 793 691 485 650 754 535\n",
      " 716 539 706 586 631 717 800 683 704 615 667 484 480 578 512 606 597 778\n",
      " 514 525 715 580 807 521 759 516 711 618 643 671 689 620 676 572 695 592\n",
      " 567 694 547 594 673 610 767 763 712 703 662 659 523 772 545 634 739 771\n",
      " 681 544 696 766 727 693 557 531 498 651 791 733 811 707 714 782 775 799\n",
      " 602 744 588 747 583 627 731 629 438 642 806 474 559 429 680 749 734 644\n",
      " 626 649 805 718 840 630 654 762 568 613 522 737 648 443 640 540 460 593\n",
      " 801 611 802 745 483 690 492 709 705 560 752 701 537 487 596 702 486 724\n",
      " 548 464 790 534 748 494 590 468 509 818 816 536 753 774 621 569 658 798\n",
      " 641 542 692 639 765 570 638 599 632 779 527 564 833 504 842 508 417 598\n",
      " 741 607 761 848 546 439 755 760 526 713 700 666 566 495 688 612 477 427\n",
      " 839 819 720 459 503 624 529 563 482 796 445 746 786 554 672 787 499 844\n",
      " 450 815 838 803 736 633 600 679 517 792 743 488 421 841 708 507 505 456\n",
      " 435 561 518 565 728 784 552 609 764 697 723 551 444 719 496 541 830 812\n",
      " 677 420 595 617 809 500 826 434 513 478 797 363 399 463 780 452 575 837\n",
      " 794 824 428 823 781 849 489 431 457 768 831 359 820 573 576 558 817 449\n",
      " 440 415 821 530 350 446 425 740 481 783 358 845 451 458 469 423 404 836\n",
      " 473 835 466 491 351 827 843 365 532 414 453 471 401 810 832 470 447 422\n",
      " 825 430 436 426 408 847 418 437 410 454 407 455 462 386 405 383 395 467\n",
      " 433 442 424 448 441 367 412 382 373 419]\n",
      "Gender : [0 1]\n",
      "Age : [42 41 39 43 44 50 29 27 31 24 34 25 35 45 58 32 38 46 36 33 40 51 61 49\n",
      " 37 19 66 56 26 21 55 75 22 30 28 65 48 52 57 73 47 54 72 20 67 79 62 53\n",
      " 80 59 68 23 60 70 63 64 18 82 69 74 71 76 77 88 85 84 78 81 92 83]\n",
      "Tenure : [ 2  1  8  7  4  6  3 10  5  9  0]\n",
      "Balance : [     0.    83807.86 159660.8  ...  57369.61  75075.31 130142.79]\n",
      "NumOfProducts : [1 3 2 4]\n",
      "HasCrCard : [1 0]\n",
      "IsActiveMember : [1 0]\n",
      "EstimatedSalary : [101348.88 112542.58 113931.57 ...  42085.58  92888.52  38190.78]\n",
      "Exited : [1 0]\n",
      "Geography_France : [1 0]\n",
      "Geography_Germany : [0 1]\n",
      "Geography_Spain : [0 1]\n"
     ]
    }
   ],
   "source": [
    "cols=df.columns\n",
    "for i in cols:\n",
    "    print(f'{i} : {df[i].unique()}')"
   ]
  },
  {
   "cell_type": "markdown",
   "id": "67fc5528",
   "metadata": {},
   "source": [
    "# Standardization"
   ]
  },
  {
   "cell_type": "code",
   "execution_count": 20,
   "id": "d9d3c2ec",
   "metadata": {},
   "outputs": [],
   "source": [
    "numeric_features = ['CreditScore', 'Age', 'Tenure', 'NumOfProducts','Balance', 'EstimatedSalary']\n",
    "scaler = StandardScaler()\n",
    "df[numeric_features] = scaler.fit_transform(df[numeric_features])"
   ]
  },
  {
   "cell_type": "code",
   "execution_count": 21,
   "id": "7e8be706",
   "metadata": {},
   "outputs": [
    {
     "name": "stdout",
     "output_type": "stream",
     "text": [
      "CreditScore : [-0.32622142 -0.44003595 -1.53679418  0.50152063  2.06388377 -0.05720525\n",
      "  1.77417405 -2.84048792 -1.54714096  0.346319   -1.26777801 -1.58852806\n",
      " -1.80581035 -1.05049572 -0.16067301 -0.35726175  0.02556895 -0.65731824\n",
      "  0.78088358  0.84296423 -0.15032623 -1.45401997  0.19111736  2.02249666\n",
      " -0.760786    1.09128685 -0.82286666 -0.79182633 -2.47835077 -0.61593114\n",
      " -1.21604413 -1.00910862 -1.35055222  0.73949648 -1.81615712 -1.66095549\n",
      "  1.58793208 -0.70905212 -1.84719745 -1.91962488 -0.97806829  1.89833536\n",
      "  0.09799638  1.29822236  1.84660148 -0.13997946 -1.04014895  0.49117386\n",
      " -0.6780118   1.42238367  0.0462625  -0.51246338  0.05660928  0.7705368\n",
      " -1.4436732  -0.3779553   0.94643199  0.37735933 -0.98841507 -0.49176983\n",
      "  1.03955297 -0.7193989   0.87400456  0.10834316  0.25319802  0.90504489\n",
      "  1.68105307  0.06695605 -0.48142306 -1.36089899  0.13938348  0.28423834\n",
      "  1.10163363 -2.42661689  0.14973026  1.30856914 -1.11257638 -1.49540708\n",
      " -1.62991516  0.01522218  1.0292062   0.81192391 -0.04685848 -0.0365117\n",
      "  1.62931919 -1.30916511  1.22579493  0.82227068 -1.4022861   1.26718204\n",
      "  1.69139984  0.61533517 -2.45765722 -0.28483432  0.20146414 -0.29518109\n",
      "  1.39134335 -0.47107628 -1.77477002  0.35666577 -1.16431025 -0.91598764\n",
      "  0.7291497  -0.23310044  0.18077059  1.8362547   0.24285124 -0.26414077\n",
      " -2.26106848  1.23614171  1.1119804   1.4948111   0.36701255  1.43273045\n",
      " -0.63662469 -1.96101198 -0.68835857 -0.74009245  0.12903671  0.32562545\n",
      "  1.47411755  0.41874643 -1.71268937 -0.00547137  1.0705933  -1.19535058\n",
      "  0.67741582 -1.15396348  0.57394806 -0.66766502 -0.20206011  0.6877626\n",
      "  1.54654498  0.33597222  0.55325451 -0.36760852  0.17042381 -1.72303614\n",
      " -1.76442325 -0.75043923 -1.43332642 -0.46072951 -0.55385049  1.31891592\n",
      " -1.41263287 -1.29881834  0.66706905 -0.72974567  1.61897241 -1.34020544\n",
      "  1.12232718 -1.39193932  0.62568194 -0.3365682  -0.0778988   0.21181091\n",
      "  0.39805288 -0.31587465  0.26354479 -0.81251988  0.46013353 -0.60558437\n",
      " -0.86425376  0.44978676 -1.07118927 -0.58489081  0.23250447 -0.4193424\n",
      "  1.20510138  1.16371428  0.63602872  0.54290774  0.11868993  0.08764961\n",
      " -1.31951189  1.25683526 -1.09188282 -0.17101979  0.91539166  1.24648849\n",
      "  0.31527867 -1.1022296   0.47048031  1.19475461  0.79123035  0.43943998\n",
      " -0.96772152 -1.23673768 -1.57818128  0.0048754   1.453424    0.85331101\n",
      "  1.66035951  0.58429484  0.65672227  1.36030302  1.28787559  1.53619821\n",
      " -0.50211661  0.96712554 -0.64697147  0.99816587 -0.69870535 -0.24344722\n",
      "  0.83261746 -0.22275366 -2.19898783 -0.08824558  1.60862564 -1.8265039\n",
      " -0.94702796 -2.29210881  0.3049319   1.01885942  0.86365778 -0.06755203\n",
      " -0.25379399 -0.01581815  1.59827886  0.69810937  1.96041601 -0.21240689\n",
      "  0.03591573  1.1533675  -0.85390698 -0.38830208 -1.32985867  0.89469811\n",
      " -0.02616493 -2.14725395 -0.10893913 -1.1436167  -1.97135876 -0.59523759\n",
      "  1.55689176 -0.40899563  1.56723853  0.97747232 -1.73338292  0.40839965\n",
      " -1.64026194  0.60498839  0.56360129 -0.93668119  1.04989975  0.52221419\n",
      " -1.17465703 -1.69199582 -0.56419726  0.53256096 -1.70234259  0.76019003\n",
      " -1.0608425  -1.92997166  1.44307722 -1.20569736  1.00851264 -1.61956839\n",
      " -0.62627792 -1.88858455 -1.46436675  1.73278694  1.71209339 -1.18500381\n",
      "  1.06024652  1.27752881 -0.30552787 -0.84356021  0.07730283  1.52585143\n",
      " -0.09859236 -1.12292315  0.4290932  -0.11928591  1.18440783 -0.83321343\n",
      " -0.12963268 -0.53315694 -0.19171334  1.32926269 -1.27812479 -0.89529409\n",
      "  1.88798858 -1.51610063  1.98110956 -1.47471353 -2.41627012 -0.54350371\n",
      "  0.93608521 -0.45038273  1.14302073  2.04319022 -1.08153605 -2.18864105\n",
      "  1.08094007  1.13267395 -1.28847156  0.64637549  0.51186741  0.16007704\n",
      " -0.87460053 -1.60922161  0.3877061  -0.39864885 -1.79546357 -2.31280236\n",
      "  1.95006923  1.74313372  0.71880292 -1.98170554 -1.5264474  -0.27448754\n",
      " -1.25743124 -0.90564086 -1.74372969  1.50515788 -2.1265604   0.98781909\n",
      "  1.40169012 -0.99876184  0.22215769  1.4120369  -1.56783451  2.00180311\n",
      " -2.07482652  1.70174662  1.93972246  1.57758531  0.88435134 -0.18136656\n",
      " -0.52281016  0.29458512 -1.38159254  1.46377078  0.95677877 -1.68164904\n",
      " -2.37488301  1.97076279  0.59464162 -1.4850603  -1.50575385 -2.01274586\n",
      " -2.23002815 -0.92633441 -1.37124577 -0.88494731  0.80157713  1.38099657\n",
      " -1.01945539 -0.42968918  1.17406106  0.48082708  0.74984325 -1.02980217\n",
      " -2.13690717  0.70845615 -1.59887483 -1.13326993  1.85694825  1.67070629\n",
      "  0.27389157 -2.38522979 -0.57454404 -0.34691497  1.63966596 -1.55748773\n",
      "  1.81556115 -2.24037493 -1.42297965 -1.7851168   1.51550465 -2.974996\n",
      " -2.60251208 -1.94031843  1.33960947 -2.05413297 -0.78147955  1.92937568\n",
      "  1.48446433  1.7948676  -2.30245558  1.78452082  1.34995624  2.05353699\n",
      " -1.67130226 -2.27141526 -2.00239909  1.21544816  1.86729503 -3.01638311\n",
      "  1.7534805  -0.8021731  -0.77113278 -0.95737474  1.72244017 -2.08517329\n",
      " -2.17829427 -2.43696367  1.76382727 -1.24708446 -3.10950409 -2.11621362\n",
      " -2.33349591  0.92573844 -1.75407647  1.37064979 -3.02672988  2.01214989\n",
      " -2.06447974 -1.99205231 -1.87823778 -2.35418946 -2.5507782   1.91902891\n",
      " -1.83685068  1.90868213 -1.90927811 -1.65060871 -3.09915731  1.82590793\n",
      "  1.99145634 -2.95430245 -1.22639091 -2.44731044 -2.04378619 -1.85754423\n",
      " -2.58181853  1.65001274  1.8776418  -1.867891   -2.10586684 -2.36453624\n",
      "  1.80521437 -2.28176203 -2.21968138 -2.32314913 -2.5093911   2.03284344\n",
      " -2.40592334 -2.2093346  -2.48869755 -2.03343941 -2.51973787 -2.02309264\n",
      " -1.95066521 -2.73702016 -2.54043142 -2.76806049 -2.64389918 -1.89893133\n",
      " -2.2507217  -2.15760072 -2.34384269 -2.09552007 -2.1679475  -2.9336089\n",
      " -2.46800399 -2.77840727 -2.87152825 -2.39557656]\n",
      "Gender : [0 1]\n",
      "Age : [ 0.29351742  0.19816383  0.00745665  0.38887101  0.4842246   1.05634615\n",
      " -0.94607926 -1.13678644 -0.75537207 -1.42284721 -0.4693113  -1.32749362\n",
      " -0.37395771  0.5795782   1.81917487 -0.66001848 -0.08789694  0.67493179\n",
      " -0.27860412 -0.56466489  0.10281024  1.15169974  2.10523565  0.96099256\n",
      " -0.18325053 -1.89961516  2.5820036   1.62846769 -1.23214003 -1.70890798\n",
      "  1.5331141   3.44018592 -1.61355439 -0.85072567 -1.04143285  2.48665001\n",
      "  0.86563897  1.24705333  1.72382128  3.24947873  0.77028538  1.43776051\n",
      "  3.15412514 -1.80426157  2.67735719  3.82160028  2.20058924  1.34240692\n",
      "  3.91695387  1.91452846  2.77271078 -1.5182008   2.00988206  2.96341796\n",
      "  2.29594283  2.39129642 -1.99496875  4.10766105  2.86806437  3.34483233\n",
      "  3.05877155  3.53553951  3.6308931   4.6797826   4.39372182  4.29836823\n",
      "  3.72624669  4.01230746  5.06119696  4.20301464]\n",
      "Tenure : [-1.04175968 -1.38753759  1.03290776  0.68712986 -0.35020386  0.34135195\n",
      " -0.69598177  1.72446358 -0.00442596  1.37868567 -1.73331549]\n",
      "Balance : [-1.22584767  0.11735002  1.33305335 ... -0.30637869 -0.02260751\n",
      "  0.85996499]\n",
      "NumOfProducts : [-0.91158349  2.52705662  0.80773656  4.24637668]\n",
      "HasCrCard : [1 0]\n",
      "IsActiveMember : [1 0]\n",
      "EstimatedSalary : [ 0.02188649  0.21653375  0.2406869  ... -1.00864308 -0.12523071\n",
      " -1.07636976]\n",
      "Exited : [1 0]\n",
      "Geography_France : [1 0]\n",
      "Geography_Germany : [0 1]\n",
      "Geography_Spain : [0 1]\n"
     ]
    }
   ],
   "source": [
    "cols=df.columns\n",
    "for i in cols:\n",
    "    print(f'{i} : {df[i].unique()}')"
   ]
  },
  {
   "cell_type": "code",
   "execution_count": 22,
   "id": "f35c4cf9",
   "metadata": {},
   "outputs": [],
   "source": [
    "X=df.drop('Exited',axis='columns')\n",
    "y=df['Exited']"
   ]
  },
  {
   "cell_type": "code",
   "execution_count": 23,
   "id": "ad7649cb",
   "metadata": {},
   "outputs": [
    {
     "data": {
      "text/plain": [
       "(10000, 13)"
      ]
     },
     "execution_count": 23,
     "metadata": {},
     "output_type": "execute_result"
    }
   ],
   "source": [
    "df.shape"
   ]
  },
  {
   "cell_type": "code",
   "execution_count": 24,
   "id": "875d1a58",
   "metadata": {},
   "outputs": [
    {
     "data": {
      "text/plain": [
       "(10000, 12)"
      ]
     },
     "execution_count": 24,
     "metadata": {},
     "output_type": "execute_result"
    }
   ],
   "source": [
    "X.shape"
   ]
  },
  {
   "cell_type": "code",
   "execution_count": 25,
   "id": "fe5a54bf",
   "metadata": {},
   "outputs": [
    {
     "data": {
      "text/plain": [
       "(10000,)"
      ]
     },
     "execution_count": 25,
     "metadata": {},
     "output_type": "execute_result"
    }
   ],
   "source": [
    "y.shape"
   ]
  },
  {
   "cell_type": "markdown",
   "id": "a1e360e6",
   "metadata": {},
   "source": [
    "# OverSampling and Data Spliting into train,test"
   ]
  },
  {
   "cell_type": "code",
   "execution_count": 55,
   "id": "8ad82d64",
   "metadata": {},
   "outputs": [],
   "source": [
    "from imblearn.over_sampling import SMOTE\n",
    "oversampler = SMOTE()\n",
    "X_resampled, y_resampled = oversampler.fit_resample(X, y)\n",
    "X_train,X_test,y_train,y_test=train_test_split(X_resampled, y_resampled,test_size=0.2,random_state=10)"
   ]
  },
  {
   "cell_type": "code",
   "execution_count": 56,
   "id": "4de59e70",
   "metadata": {},
   "outputs": [
    {
     "data": {
      "text/plain": [
       "(12740, 12)"
      ]
     },
     "execution_count": 56,
     "metadata": {},
     "output_type": "execute_result"
    }
   ],
   "source": [
    "X_train.shape"
   ]
  },
  {
   "cell_type": "code",
   "execution_count": 57,
   "id": "22b20f13",
   "metadata": {},
   "outputs": [
    {
     "data": {
      "text/plain": [
       "(12740,)"
      ]
     },
     "execution_count": 57,
     "metadata": {},
     "output_type": "execute_result"
    }
   ],
   "source": [
    "y_train.shape"
   ]
  },
  {
   "cell_type": "code",
   "execution_count": 58,
   "id": "d5b14d9c",
   "metadata": {},
   "outputs": [
    {
     "data": {
      "text/plain": [
       "(3186, 12)"
      ]
     },
     "execution_count": 58,
     "metadata": {},
     "output_type": "execute_result"
    }
   ],
   "source": [
    "X_test.shape"
   ]
  },
  {
   "cell_type": "code",
   "execution_count": 59,
   "id": "d99eed07",
   "metadata": {},
   "outputs": [
    {
     "data": {
      "text/plain": [
       "1    6382\n",
       "0    6358\n",
       "Name: Exited, dtype: int64"
      ]
     },
     "execution_count": 59,
     "metadata": {},
     "output_type": "execute_result"
    }
   ],
   "source": [
    "y_train.value_counts()"
   ]
  },
  {
   "cell_type": "markdown",
   "id": "40a0d4f8",
   "metadata": {},
   "source": [
    "# Model Training"
   ]
  },
  {
   "cell_type": "code",
   "execution_count": 60,
   "id": "f05b5921",
   "metadata": {},
   "outputs": [
    {
     "name": "stdout",
     "output_type": "stream",
     "text": [
      "Epoch 1/30\n",
      "399/399 [==============================] - 2s 3ms/step - loss: 0.4989 - accuracy: 0.7557\n",
      "Epoch 2/30\n",
      "399/399 [==============================] - 1s 3ms/step - loss: 0.4265 - accuracy: 0.8006\n",
      "Epoch 3/30\n",
      "399/399 [==============================] - 1s 3ms/step - loss: 0.4142 - accuracy: 0.8099\n",
      "Epoch 4/30\n",
      "399/399 [==============================] - 1s 3ms/step - loss: 0.4061 - accuracy: 0.8091\n",
      "Epoch 5/30\n",
      "399/399 [==============================] - 1s 3ms/step - loss: 0.3998 - accuracy: 0.8124\n",
      "Epoch 6/30\n",
      "399/399 [==============================] - 1s 3ms/step - loss: 0.3938 - accuracy: 0.8195\n",
      "Epoch 7/30\n",
      "399/399 [==============================] - 1s 3ms/step - loss: 0.3901 - accuracy: 0.8204\n",
      "Epoch 8/30\n",
      "399/399 [==============================] - 1s 3ms/step - loss: 0.3857 - accuracy: 0.8204\n",
      "Epoch 9/30\n",
      "399/399 [==============================] - 1s 3ms/step - loss: 0.3798 - accuracy: 0.8281\n",
      "Epoch 10/30\n",
      "399/399 [==============================] - 1s 3ms/step - loss: 0.3763 - accuracy: 0.8288\n",
      "Epoch 11/30\n",
      "399/399 [==============================] - 1s 3ms/step - loss: 0.3721 - accuracy: 0.8321\n",
      "Epoch 12/30\n",
      "399/399 [==============================] - 1s 3ms/step - loss: 0.3688 - accuracy: 0.8316\n",
      "Epoch 13/30\n",
      "399/399 [==============================] - 1s 3ms/step - loss: 0.3637 - accuracy: 0.8353\n",
      "Epoch 14/30\n",
      "399/399 [==============================] - 1s 3ms/step - loss: 0.3595 - accuracy: 0.8394\n",
      "Epoch 15/30\n",
      "399/399 [==============================] - 1s 3ms/step - loss: 0.3578 - accuracy: 0.8370\n",
      "Epoch 16/30\n",
      "399/399 [==============================] - 1s 3ms/step - loss: 0.3549 - accuracy: 0.8425\n",
      "Epoch 17/30\n",
      "399/399 [==============================] - 1s 3ms/step - loss: 0.3502 - accuracy: 0.8443\n",
      "Epoch 18/30\n",
      "399/399 [==============================] - 1s 3ms/step - loss: 0.3465 - accuracy: 0.8447\n",
      "Epoch 19/30\n",
      "399/399 [==============================] - 1s 3ms/step - loss: 0.3447 - accuracy: 0.8436\n",
      "Epoch 20/30\n",
      "399/399 [==============================] - 1s 3ms/step - loss: 0.3404 - accuracy: 0.8491\n",
      "Epoch 21/30\n",
      "399/399 [==============================] - 1s 3ms/step - loss: 0.3390 - accuracy: 0.8510\n",
      "Epoch 22/30\n",
      "399/399 [==============================] - 1s 3ms/step - loss: 0.3376 - accuracy: 0.8495\n",
      "Epoch 23/30\n",
      "399/399 [==============================] - 1s 3ms/step - loss: 0.3329 - accuracy: 0.8536\n",
      "Epoch 24/30\n",
      "399/399 [==============================] - 1s 3ms/step - loss: 0.3319 - accuracy: 0.8556\n",
      "Epoch 25/30\n",
      "399/399 [==============================] - 2s 4ms/step - loss: 0.3292 - accuracy: 0.8560\n",
      "Epoch 26/30\n",
      "399/399 [==============================] - 1s 3ms/step - loss: 0.3281 - accuracy: 0.8565\n",
      "Epoch 27/30\n",
      "399/399 [==============================] - 1s 3ms/step - loss: 0.3262 - accuracy: 0.8575\n",
      "Epoch 28/30\n",
      "399/399 [==============================] - 1s 3ms/step - loss: 0.3228 - accuracy: 0.8545\n",
      "Epoch 29/30\n",
      "399/399 [==============================] - 1s 3ms/step - loss: 0.3208 - accuracy: 0.8595\n",
      "Epoch 30/30\n",
      "399/399 [==============================] - 1s 3ms/step - loss: 0.3197 - accuracy: 0.8604\n"
     ]
    },
    {
     "data": {
      "text/plain": [
       "<keras.src.callbacks.History at 0x1d2a3c16eb0>"
      ]
     },
     "execution_count": 60,
     "metadata": {},
     "output_type": "execute_result"
    }
   ],
   "source": [
    "model=keras.Sequential([\n",
    "    keras.layers.Dense(30,input_shape=(12,),activation='leaky_relu'),\n",
    "    keras.layers.Dense(40,activation='relu'),\n",
    "    keras.layers.Dense(50,activation='relu'),\n",
    "    keras.layers.Dense(1,activation='sigmoid')\n",
    "])\n",
    "\n",
    "model.compile(optimizer='adam',\n",
    "             loss='binary_crossentropy',\n",
    "              metrics=['accuracy'])\n",
    "\n",
    "model.fit(X_train, y_train, epochs=30)"
   ]
  },
  {
   "cell_type": "markdown",
   "id": "df5fdb7e",
   "metadata": {},
   "source": [
    "# Model Evaluation"
   ]
  },
  {
   "cell_type": "code",
   "execution_count": 61,
   "id": "c9baa67a",
   "metadata": {},
   "outputs": [
    {
     "name": "stdout",
     "output_type": "stream",
     "text": [
      "100/100 [==============================] - 0s 3ms/step - loss: 0.3694 - accuracy: 0.8399\n"
     ]
    },
    {
     "data": {
      "text/plain": [
       "[0.36937475204467773, 0.839924693107605]"
      ]
     },
     "execution_count": 61,
     "metadata": {},
     "output_type": "execute_result"
    }
   ],
   "source": [
    "model.evaluate(X_test,y_test)"
   ]
  },
  {
   "cell_type": "markdown",
   "id": "ad51cf49",
   "metadata": {},
   "source": [
    "# Model Prediction"
   ]
  },
  {
   "cell_type": "code",
   "execution_count": 62,
   "id": "080aeafb",
   "metadata": {},
   "outputs": [
    {
     "name": "stdout",
     "output_type": "stream",
     "text": [
      "100/100 [==============================] - 0s 2ms/step\n"
     ]
    },
    {
     "data": {
      "text/plain": [
       "array([[0.01289911],\n",
       "       [0.95838803],\n",
       "       [0.92091393],\n",
       "       [0.00181428],\n",
       "       [0.4694859 ]], dtype=float32)"
      ]
     },
     "execution_count": 62,
     "metadata": {},
     "output_type": "execute_result"
    }
   ],
   "source": [
    "yp=model.predict(X_test)\n",
    "yp[:5]"
   ]
  },
  {
   "cell_type": "code",
   "execution_count": 63,
   "id": "b796b3da",
   "metadata": {},
   "outputs": [
    {
     "data": {
      "text/plain": [
       "145      0\n",
       "7025     1\n",
       "12550    1\n",
       "8798     0\n",
       "2625     0\n",
       "2193     0\n",
       "9457     0\n",
       "3801     0\n",
       "435      0\n",
       "15437    1\n",
       "6028     1\n",
       "10828    1\n",
       "7560     0\n",
       "4643     1\n",
       "10286    1\n",
       "558      0\n",
       "13973    1\n",
       "8495     1\n",
       "6454     0\n",
       "7460     0\n",
       "Name: Exited, dtype: int64"
      ]
     },
     "execution_count": 63,
     "metadata": {},
     "output_type": "execute_result"
    }
   ],
   "source": [
    "y_test[:20]"
   ]
  },
  {
   "cell_type": "code",
   "execution_count": 64,
   "id": "7419f1e2",
   "metadata": {},
   "outputs": [],
   "source": [
    "y_pred=[]\n",
    "for i in yp:\n",
    "    if(i>0.5):\n",
    "        y_pred.append(1)\n",
    "    else:\n",
    "        y_pred.append(0)"
   ]
  },
  {
   "cell_type": "code",
   "execution_count": 65,
   "id": "9a1960ee",
   "metadata": {},
   "outputs": [
    {
     "data": {
      "text/plain": [
       "[0, 1, 1, 0, 0, 0, 0, 0, 1, 1, 1, 1, 0, 1, 0, 0, 0, 1, 0, 0]"
      ]
     },
     "execution_count": 65,
     "metadata": {},
     "output_type": "execute_result"
    }
   ],
   "source": [
    "y_pred[:20]"
   ]
  },
  {
   "cell_type": "markdown",
   "id": "fbc52c30",
   "metadata": {},
   "source": [
    "# Classification Report"
   ]
  },
  {
   "cell_type": "code",
   "execution_count": 66,
   "id": "0892d2de",
   "metadata": {},
   "outputs": [
    {
     "name": "stdout",
     "output_type": "stream",
     "text": [
      "              precision    recall  f1-score   support\n",
      "\n",
      "           0       0.82      0.87      0.85      1605\n",
      "           1       0.86      0.81      0.83      1581\n",
      "\n",
      "    accuracy                           0.84      3186\n",
      "   macro avg       0.84      0.84      0.84      3186\n",
      "weighted avg       0.84      0.84      0.84      3186\n",
      "\n"
     ]
    }
   ],
   "source": [
    "print(classification_report(y_test,y_pred))"
   ]
  },
  {
   "cell_type": "markdown",
   "id": "f000129a",
   "metadata": {},
   "source": [
    "# Confusion Matrix"
   ]
  },
  {
   "cell_type": "code",
   "execution_count": 73,
   "id": "676ec92a",
   "metadata": {},
   "outputs": [
    {
     "data": {
      "text/plain": [
       "Text(69.0, 0.5, 'Truth')"
      ]
     },
     "execution_count": 73,
     "metadata": {},
     "output_type": "execute_result"
    },
    {
     "data": {
      "image/png": "[encoded data removed]",
      "text/plain": [
       "<Figure size 720x504 with 2 Axes>"
      ]
     },
     "metadata": {
      "needs_background": "light"
     },
     "output_type": "display_data"
    }
   ],
   "source": [
    "cm=tf.math.confusion_matrix(labels=y_test,predictions=y_pred)\n",
    "plt.figure(figsize=(10,7))\n",
    "sn.heatmap(cm,annot=True,fmt='d')\n",
    "plt.xlabel('Prediction')\n",
    "plt.ylabel('Truth')"
   ]
  },
  {
   "cell_type": "markdown",
   "id": "1f72fa36",
   "metadata": {},
   "source": [
    "# Our model shows strong potential for generalizability based on the closeness of training and test accuracy (86.04% and 83.99%, respectively). This suggests the model has learned meaningful relationships from the data without overfitting to the training set.\n",
    "\n",
    "\n",
    "# Precision: Measures the proportion of predicted positives that are actually positive (0.82 for Class 0, 0.86 for Class 1).\n",
    "\n",
    "# Recall: Measures the proportion of actual positives that are correctly identified (0.87 for Class 0, 0.81 for Class 1).\n",
    "\n",
    "# F1-score: A balanced measure of precision and recall (0.85 for Class 0, 0.83 for Class 1).\n",
    "\n",
    "# Overall Accuracy: Measures the proportion of all predictions that are correct (84%).\n",
    "\n",
    "# These metrics indicate good performance across both classes, demonstrating the model's ability to correctly identify churned and retained customers."
   ]
  },
  {
   "cell_type": "code",
   "execution_count": null,
   "id": "58ebb3ab",
   "metadata": {},
   "outputs": [],
   "source": []
  }
 ],
 "metadata": {
  "kernelspec": {
   "display_name": "Python 3 (ipykernel)",
   "language": "python",
   "name": "python3"
  },
  "language_info": {
   "codemirror_mode": {
    "name": "ipython",
    "version": 3
   },
   "file_extension": ".py",
   "mimetype": "text/x-python",
   "name": "python",
   "nbconvert_exporter": "python",
   "pygments_lexer": "ipython3",
   "version": "3.9.12"
  }
 },
 "nbformat": 4,
 "nbformat_minor": 5
}
